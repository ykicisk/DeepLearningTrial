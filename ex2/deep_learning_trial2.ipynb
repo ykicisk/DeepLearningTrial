{
 "cells": [
  {
   "cell_type": "code",
   "execution_count": 1,
   "metadata": {
    "collapsed": false
   },
   "outputs": [],
   "source": [
    "import sys\n",
    "sys.path.append(\"./scripts\")\n",
    "\n",
    "import ChainerPredictor"
   ]
  },
  {
   "cell_type": "code",
   "execution_count": null,
   "metadata": {
    "collapsed": false
   },
   "outputs": [
    {
     "name": "stdout",
     "output_type": "stream",
     "text": [
      "load gender images\n",
      "0 (3998, 1024)\n",
      "1 (4209, 1024)\n",
      "train NN model\n",
      "epoch: 0\n",
      "train: loss:0.718547302317, accuracy:0.603074031828, \n",
      "epoch: 1\n",
      "train: loss:0.648939971934, accuracy:0.638374906663, \n",
      "epoch: 2\n",
      "train: loss:0.630025741925, accuracy:0.654946127254, \n",
      "epoch: 3\n",
      "train: loss:0.630019966659, accuracy:0.653449147195, \n",
      "epoch: 4\n"
     ]
    }
   ],
   "source": [
    "%%time\n",
    "nn_predictor = ChainerPredictor.train(\"data/train\", \"data/nn3.pickle\", n_epoch=20)"
   ]
  },
  {
   "cell_type": "code",
   "execution_count": null,
   "metadata": {
    "collapsed": false
   },
   "outputs": [],
   "source": [
    "test_ds = ChainerPredictor.load_gender_dataset(\"data/test\")\n",
    "for key, arr in test_ds.items():\n",
    "    print key, arr.shape\n",
    "X, Y = ChainerPredictor.merge_dataset(test_ds)\n",
    "nn_predictor.test(X, Y)"
   ]
  },
  {
   "cell_type": "code",
   "execution_count": null,
   "metadata": {
    "collapsed": false
   },
   "outputs": [],
   "source": [
    "%%time\n",
    "cnn_predictor = ChainerPredictor.train(\"data/train\", \"data/cnn.pickle\", n_epoch=20, CNN_flag=True)"
   ]
  },
  {
   "cell_type": "code",
   "execution_count": null,
   "metadata": {
    "collapsed": false
   },
   "outputs": [],
   "source": [
    "test_ds_2d = ChainerPredictor.load_gender_dataset(\"data/test\", is_2d=True)\n",
    "for key, arr in test_ds_2d.items():\n",
    "    print key, arr.shape\n",
    "X_2d, Y_2d = ChainerPredictor.merge_dataset(test_ds_2d)\n",
    "cnn_predictor.test(X_2d, Y_2d)"
   ]
  },
  {
   "cell_type": "code",
   "execution_count": null,
   "metadata": {
    "collapsed": true
   },
   "outputs": [],
   "source": []
  }
 ],
 "metadata": {
  "kernelspec": {
   "display_name": "Python 2",
   "language": "python",
   "name": "python2"
  },
  "language_info": {
   "codemirror_mode": {
    "name": "ipython",
    "version": 2
   },
   "file_extension": ".py",
   "mimetype": "text/x-python",
   "name": "python",
   "nbconvert_exporter": "python",
   "pygments_lexer": "ipython2",
   "version": "2.7.11"
  },
  "widgets": {
   "state": {},
   "version": "1.1.2"
  }
 },
 "nbformat": 4,
 "nbformat_minor": 0
}
