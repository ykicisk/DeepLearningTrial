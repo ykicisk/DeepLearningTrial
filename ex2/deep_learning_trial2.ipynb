{
 "cells": [
  {
   "cell_type": "code",
   "execution_count": 1,
   "metadata": {
    "collapsed": false
   },
   "outputs": [],
   "source": [
    "import sys\n",
    "sys.path.append(\"./scripts\")\n",
    "\n",
    "import ChainerPredictor"
   ]
  },
  {
   "cell_type": "code",
   "execution_count": 6,
   "metadata": {
    "collapsed": false
   },
   "outputs": [
    {
     "name": "stdout",
     "output_type": "stream",
     "text": [
      "load gender images\n",
      "0 (3998, 1024)\n",
      "1 (4209, 1024)\n",
      "train NN model\n",
      "epoch: 0\n",
      "train: loss:0.718547302317, accuracy:0.603074031828, \n",
      "epoch: 1\n",
      "train: loss:0.648939971934, accuracy:0.638374906663, \n",
      "epoch: 2\n",
      "train: loss:0.630025741925, accuracy:0.654946127254, \n",
      "epoch: 3\n",
      "train: loss:0.630019966659, accuracy:0.653449147195, \n",
      "epoch: 4\n",
      "train: loss:0.625360139151, accuracy:0.662622497392, \n",
      "epoch: 5\n",
      "train: loss:0.615428975123, accuracy:0.672039549752, \n",
      "epoch: 6\n",
      "train: loss:0.616512681907, accuracy:0.669445944454, \n",
      "epoch: 7\n",
      "train: loss:0.616261135708, accuracy:0.662726938427, \n",
      "epoch: 8\n",
      "train: loss:0.60919692677, accuracy:0.672283246106, \n",
      "epoch: 9\n",
      "train: loss:0.603686907673, accuracy:0.675816813819, \n",
      "epoch: 10\n",
      "train: loss:0.613616975402, accuracy:0.661369214776, \n",
      "epoch: 11\n",
      "train: loss:0.600137767365, accuracy:0.675938659817, \n",
      "epoch: 12\n",
      "train: loss:0.621400356467, accuracy:0.651725878288, \n",
      "epoch: 13\n",
      "train: loss:0.600940505828, accuracy:0.663092482231, \n",
      "epoch: 14\n",
      "train: loss:0.591469018021, accuracy:0.69400686083, \n",
      "epoch: 15\n",
      "train: loss:0.599098351183, accuracy:0.663527649518, \n",
      "epoch: 16\n",
      "train: loss:0.603112963313, accuracy:0.667113439747, \n",
      "epoch: 17\n",
      "train: loss:0.597236748225, accuracy:0.672770633003, \n",
      "epoch: 18\n",
      "train: loss:0.585000392173, accuracy:0.694859788263, \n",
      "epoch: 19\n",
      "train: loss:0.609425940931, accuracy:0.653779876716, \n",
      "CPU times: user 8min 53s, sys: 6min 1s, total: 14min 55s\n",
      "Wall time: 6min 6s\n"
     ]
    }
   ],
   "source": [
    "%%time\n",
    "nn_predictor = ChainerPredictor.train(\"data/train\", \"data/nn3.pickle\", n_epoch=20)"
   ]
  },
  {
   "cell_type": "code",
   "execution_count": 7,
   "metadata": {
    "collapsed": false
   },
   "outputs": [
    {
     "name": "stdout",
     "output_type": "stream",
     "text": [
      "load gender images\n",
      "0 (3206, 1024)\n",
      "1 (3304, 1024)\n",
      "test: loss:0.578196428705, accuracy:0.728264207023, \n"
     ]
    }
   ],
   "source": [
    "test_ds = ChainerPredictor.load_gender_dataset(\"data/test\")\n",
    "for key, arr in test_ds.items():\n",
    "    print key, arr.shape\n",
    "X, Y = ChainerPredictor.merge_dataset(test_ds)\n",
    "nn_predictor.test(X, Y)"
   ]
  },
  {
   "cell_type": "code",
   "execution_count": 8,
   "metadata": {
    "collapsed": false
   },
   "outputs": [
    {
     "name": "stdout",
     "output_type": "stream",
     "text": [
      "load gender images\n",
      "0 (3998, 1, 32, 32)\n",
      "1 (4209, 1, 32, 32)\n",
      "train NN model\n",
      "epoch: 0\n",
      "train: loss:0.61616745394, accuracy:0.67346690197, \n",
      "epoch: 1\n",
      "train: loss:0.482496847998, accuracy:0.781249454574, \n",
      "epoch: 2\n",
      "train: loss:0.402727561164, accuracy:0.83023202656, \n",
      "epoch: 3\n",
      "train: loss:0.352023398308, accuracy:0.862921894403, \n",
      "epoch: 4\n",
      "train: loss:0.321218768114, accuracy:0.870563456067, \n",
      "epoch: 5\n",
      "train: loss:0.285458997794, accuracy:0.890790090733, \n",
      "epoch: 6\n",
      "train: loss:0.254919704318, accuracy:0.906020994815, \n",
      "epoch: 7\n",
      "train: loss:0.229381394144, accuracy:0.921530400819, \n",
      "epoch: 8\n",
      "train: loss:0.206013773178, accuracy:0.930059705653, \n",
      "epoch: 9\n",
      "train: loss:0.183873629238, accuracy:0.936883148357, \n",
      "epoch: 10\n",
      "train: loss:0.150991874312, accuracy:0.954550993461, \n",
      "epoch: 11\n",
      "train: loss:0.14020557296, accuracy:0.959024528674, \n",
      "epoch: 12\n",
      "train: loss:0.119041114312, accuracy:0.965029856777, \n",
      "epoch: 13\n",
      "train: loss:0.100801981151, accuracy:0.973802859417, \n",
      "epoch: 14\n",
      "train: loss:0.0793696255076, accuracy:0.983550638029, \n",
      "epoch: 15\n",
      "train: loss:0.0811371586212, accuracy:0.982088469349, \n",
      "epoch: 16\n",
      "train: loss:0.0716280822853, accuracy:0.984612447533, \n",
      "epoch: 17\n",
      "train: loss:0.0677516967861, accuracy:0.987571594819, \n",
      "epoch: 18\n",
      "train: loss:0.0431035053789, accuracy:0.997197523439, \n",
      "epoch: 19\n",
      "train: loss:0.0347033030132, accuracy:1.00033073633, \n",
      "CPU times: user 55min 41s, sys: 22min 39s, total: 1h 18min 20s\n",
      "Wall time: 49min 58s\n"
     ]
    }
   ],
   "source": [
    "%%time\n",
    "cnn_predictor = ChainerPredictor.train(\"data/train\", \"data/cnn.pickle\", n_epoch=20, CNN_flag=True)"
   ]
  },
  {
   "cell_type": "code",
   "execution_count": 9,
   "metadata": {
    "collapsed": false
   },
   "outputs": [
    {
     "name": "stdout",
     "output_type": "stream",
     "text": [
      "load gender images\n",
      "0 (3206, 1, 32, 32)\n",
      "1 (3304, 1, 32, 32)\n",
      "test: loss:0.709866299773, accuracy:0.847465438044, \n"
     ]
    }
   ],
   "source": [
    "test_ds_2d = ChainerPredictor.load_gender_dataset(\"data/test\", is_2d=True)\n",
    "for key, arr in test_ds_2d.items():\n",
    "    print key, arr.shape\n",
    "X_2d, Y_2d = ChainerPredictor.merge_dataset(test_ds_2d)\n",
    "cnn_predictor.test(X_2d, Y_2d)"
   ]
  },
  {
   "cell_type": "code",
   "execution_count": null,
   "metadata": {
    "collapsed": true
   },
   "outputs": [],
   "source": []
  }
 ],
 "metadata": {
  "kernelspec": {
   "display_name": "Python 2",
   "language": "python",
   "name": "python2"
  },
  "language_info": {
   "codemirror_mode": {
    "name": "ipython",
    "version": 2
   },
   "file_extension": ".py",
   "mimetype": "text/x-python",
   "name": "python",
   "nbconvert_exporter": "python",
   "pygments_lexer": "ipython2",
   "version": "2.7.11"
  },
  "widgets": {
   "state": {},
   "version": "1.1.2"
  }
 },
 "nbformat": 4,
 "nbformat_minor": 0
}
