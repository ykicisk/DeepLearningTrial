{
 "cells": [
  {
   "cell_type": "code",
   "execution_count": 3,
   "metadata": {
    "collapsed": false
   },
   "outputs": [],
   "source": [
    "import sys\n",
    "sys.path.append(\"./scripts\")\n",
    "\n",
    "import train_chainer"
   ]
  },
  {
   "cell_type": "code",
   "execution_count": 4,
   "metadata": {
    "collapsed": false
   },
   "outputs": [
    {
     "name": "stdout",
     "output_type": "stream",
     "text": [
      "load gender images\n",
      "m (3998, 1024)\n",
      "f (4209, 1024)\n",
      "epoch: 0\n",
      "train mean loss=0.737760815621, accuracy=0.608835664303\n",
      "epoch: 1\n",
      "train mean loss=0.643909196841, accuracy=0.637400128148\n",
      "epoch: 2\n",
      "train mean loss=0.63493914954, accuracy=0.650559625571\n",
      "epoch: 3\n",
      "train mean loss=0.616238446434, accuracy=0.668175252155\n",
      "epoch: 4\n",
      "train mean loss=0.618335674752, accuracy=0.669045587819\n",
      "epoch: 5\n",
      "train mean loss=0.624933938706, accuracy=0.666834934193\n",
      "epoch: 6\n",
      "train mean loss=0.613100831279, accuracy=0.671761043472\n",
      "epoch: 7\n",
      "train mean loss=0.602928959119, accuracy=0.68443315073\n",
      "epoch: 8\n",
      "train mean loss=0.596931926426, accuracy=0.689864055501\n",
      "epoch: 9\n",
      "train mean loss=0.605734405294, accuracy=0.684502777845\n",
      "epoch: 10\n",
      "train mean loss=0.589871073199, accuracy=0.699611834113\n",
      "epoch: 11\n",
      "train mean loss=0.593903091745, accuracy=0.686504554121\n",
      "epoch: 12\n",
      "train mean loss=0.590346685873, accuracy=0.689585549221\n",
      "epoch: 13\n",
      "train mean loss=0.614723502551, accuracy=0.659123745414\n",
      "epoch: 14\n",
      "train mean loss=0.608921104043, accuracy=0.664885378253\n",
      "epoch: 15\n",
      "train mean loss=0.605429638691, accuracy=0.666138666679\n",
      "epoch: 16\n",
      "train mean loss=0.610068992763, accuracy=0.658479697146\n",
      "epoch: 17\n",
      "train mean loss=0.604993816675, accuracy=0.675625340706\n",
      "epoch: 18\n",
      "train mean loss=0.590127923681, accuracy=0.694424623518\n",
      "epoch: 19\n",
      "train mean loss=0.593263033582, accuracy=0.679507041451\n"
     ]
    }
   ],
   "source": [
    "train_chainer.train(\"data/train\", \"data/model.pickle\", 100, 20, 2000)"
   ]
  },
  {
   "cell_type": "code",
   "execution_count": null,
   "metadata": {
    "collapsed": true
   },
   "outputs": [],
   "source": [
    "import train_chainer\n",
    "train_chainer.train(\"data/train\", \"data/CNN_predictor.pickle\", 100, 20, 2000)"
   ]
  }
 ],
 "metadata": {
  "kernelspec": {
   "display_name": "Python 2",
   "language": "python",
   "name": "python2"
  },
  "language_info": {
   "codemirror_mode": {
    "name": "ipython",
    "version": 2
   },
   "file_extension": ".py",
   "mimetype": "text/x-python",
   "name": "python",
   "nbconvert_exporter": "python",
   "pygments_lexer": "ipython2",
   "version": "2.7.11"
  },
  "widgets": {
   "state": {},
   "version": "1.1.2"
  }
 },
 "nbformat": 4,
 "nbformat_minor": 0
}
