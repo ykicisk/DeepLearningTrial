{
 "cells": [
  {
   "cell_type": "code",
   "execution_count": 1,
   "metadata": {
    "collapsed": false
   },
   "outputs": [
    {
     "name": "stdout",
     "output_type": "stream",
     "text": [
      "Successfully downloaded train-images-idx3-ubyte.gz 9912422 bytes.\n",
      "Extracting MNIST_data/train-images-idx3-ubyte.gz\n",
      "Successfully downloaded train-labels-idx1-ubyte.gz 28881 bytes.\n",
      "Extracting MNIST_data/train-labels-idx1-ubyte.gz\n",
      "Successfully downloaded t10k-images-idx3-ubyte.gz 1648877 bytes.\n",
      "Extracting MNIST_data/t10k-images-idx3-ubyte.gz\n",
      "Successfully downloaded t10k-labels-idx1-ubyte.gz 4542 bytes.\n",
      "Extracting MNIST_data/t10k-labels-idx1-ubyte.gz\n"
     ]
    }
   ],
   "source": [
    "import mnist_tutorial"
   ]
  },
  {
   "cell_type": "code",
   "execution_count": 2,
   "metadata": {
    "collapsed": false
   },
   "outputs": [
    {
     "name": "stdout",
     "output_type": "stream",
     "text": [
      "0.9106\n"
     ]
    }
   ],
   "source": [
    "mnist_tutorial.softmax_regression()"
   ]
  },
  {
   "cell_type": "code",
   "execution_count": 3,
   "metadata": {
    "collapsed": false
   },
   "outputs": [
    {
     "name": "stdout",
     "output_type": "stream",
     "text": [
      "iter: 0 . loss: 3.30152 accuracy: 0.1162\n",
      "iter: 100 . loss: 1.99898 accuracy: 0.7852\n",
      "iter: 200 . loss: 1.53191 accuracy: 0.8527\n",
      "iter: 300 . loss: 1.35697 accuracy: 0.8769\n",
      "iter: 400 . loss: 1.24509 accuracy: 0.8898\n",
      "iter: 500 . loss: 1.16784 accuracy: 0.8923\n",
      "iter: 600 . loss: 1.09286 accuracy: 0.8977\n",
      "iter: 700 . loss: 1.03547 accuracy: 0.9018\n",
      "iter: 800 . loss: 0.982586 accuracy: 0.9037\n",
      "iter: 900 . loss: 0.939286 accuracy: 0.9074\n",
      "iter: 1000 . loss: 0.896787 accuracy: 0.9079\n",
      "iter: 1100 . loss: 0.859534 accuracy: 0.9102\n",
      "iter: 1200 . loss: 0.820822 accuracy: 0.9132\n",
      "iter: 1300 . loss: 0.794697 accuracy: 0.9138\n",
      "iter: 1400 . loss: 0.767662 accuracy: 0.9151\n",
      "iter: 1500 . loss: 0.742771 accuracy: 0.9148\n",
      "iter: 1600 . loss: 0.719718 accuracy: 0.9182\n",
      "iter: 1700 . loss: 0.700316 accuracy: 0.9185\n",
      "iter: 1800 . loss: 0.680474 accuracy: 0.9213\n",
      "iter: 1900 . loss: 0.662167 accuracy: 0.9205\n",
      "iter: 2000 . loss: 0.64787 accuracy: 0.9211\n",
      "iter: 2100 . loss: 0.637556 accuracy: 0.9205\n",
      "iter: 2200 . loss: 0.621306 accuracy: 0.9212\n",
      "iter: 2300 . loss: 0.613179 accuracy: 0.9215\n",
      "iter: 2400 . loss: 0.602158 accuracy: 0.9226\n",
      "iter: 2500 . loss: 0.593306 accuracy: 0.9228\n",
      "iter: 2600 . loss: 0.587821 accuracy: 0.9229\n",
      "iter: 2700 . loss: 0.577553 accuracy: 0.9232\n",
      "iter: 2800 . loss: 0.570037 accuracy: 0.9249\n",
      "iter: 2900 . loss: 0.56265 accuracy: 0.9258\n",
      "0.9251\n"
     ]
    }
   ],
   "source": [
    "mnist_tutorial.shallow_learning()"
   ]
  },
  {
   "cell_type": "code",
   "execution_count": null,
   "metadata": {
    "collapsed": true
   },
   "outputs": [],
   "source": []
  }
 ],
 "metadata": {
  "kernelspec": {
   "display_name": "Python 2",
   "language": "python",
   "name": "python2"
  },
  "language_info": {
   "codemirror_mode": {
    "name": "ipython",
    "version": 2
   },
   "file_extension": ".py",
   "mimetype": "text/x-python",
   "name": "python",
   "nbconvert_exporter": "python",
   "pygments_lexer": "ipython2",
   "version": "2.7.11"
  },
  "widgets": {
   "state": {},
   "version": "1.1.2"
  }
 },
 "nbformat": 4,
 "nbformat_minor": 0
}
